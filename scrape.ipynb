{
 "cells": [
  {
   "cell_type": "code",
   "execution_count": 1,
   "metadata": {},
   "outputs": [],
   "source": [
    "from splinter import Browser\n",
    "from bs4 import BeautifulSoup\n",
    "from webdriver_manager.chrome import ChromeDriverManager\n",
    "import requests\n",
    "import unidecode\n",
    "import pymongo\n",
    "import re"
   ]
  },
  {
   "cell_type": "code",
   "execution_count": 2,
   "metadata": {},
   "outputs": [
    {
     "name": "stderr",
     "output_type": "stream",
     "text": [
      "[WDM] - ====== WebDriver manager ======\n",
      "[WDM] - Current google-chrome version is 89.0.4389\n",
      "[WDM] - Get LATEST driver version for 89.0.4389\n"
     ]
    },
    {
     "name": "stdout",
     "output_type": "stream",
     "text": [
      "\n",
      "\n"
     ]
    },
    {
     "name": "stderr",
     "output_type": "stream",
     "text": [
      "[WDM] - Driver [/Users/carter/.wdm/drivers/chromedriver/mac64/89.0.4389.23/chromedriver] found in cache\n"
     ]
    }
   ],
   "source": [
    "executable_path = {'executable_path': ChromeDriverManager().install()}\n",
    "browser = Browser('chrome', **executable_path, headless=False)"
   ]
  },
  {
   "cell_type": "code",
   "execution_count": 3,
   "metadata": {},
   "outputs": [],
   "source": [
    "browser.visit('http://quotes.toscrape.com/')"
   ]
  },
  {
   "cell_type": "code",
   "execution_count": 4,
   "metadata": {},
   "outputs": [],
   "source": [
    "data = []\n",
    "authors = set()\n",
    "nextpage = 1\n",
    "while(nextpage):\n",
    "    html = browser.html\n",
    "    # Parse HTML with Beautiful Soup\n",
    "    soup = BeautifulSoup(html, 'html.parser')\n",
    "    quotes = soup.find_all('div', class_='quote')\n",
    "    for quote in quotes:\n",
    "        tag_list=[]\n",
    "        q = quote.find('span',class_='text').text\n",
    "        author = quote.find('small',class_='author').text\n",
    "        tags = quote.find_all('a', class_='tag')\n",
    "        #Adds tags to list\n",
    "        for tag in tags:\n",
    "            tag_list.append(tag.text)\n",
    "        authors.add(author)\n",
    "    #Add data to dictionary to add to MongoDB later\n",
    "        data.append({'author_name':author,'quote':q,'tags': tag_list})\n",
    "    if browser.links.find_by_partial_text('Next '):\n",
    "        browser.links.find_by_partial_text('Next ').click()\n",
    "    else:\n",
    "            nextpage=0"
   ]
  },
  {
   "cell_type": "code",
   "execution_count": 5,
   "metadata": {},
   "outputs": [],
   "source": [
    "browser.quit()"
   ]
  },
  {
   "cell_type": "code",
   "execution_count": 6,
   "metadata": {},
   "outputs": [],
   "source": [
    "author_data = []\n",
    "for author in authors:\n",
    "    #regex to replace any period(.) or space( ) with a hyphen(-), avoids putting in double hyphens(--) when there is a period and a space\n",
    "    cleaned = unidecode.unidecode(re.sub(r'\\. | |\\.','-',author)).replace('\\'','')\n",
    "    author_ = cleaned if cleaned[-1] != '-' else cleaned[:-1]\n",
    "    #scrapes quotes urls based on cleaned author name\n",
    "    soup = BeautifulSoup(requests.get(f\"http://quotes.toscrape.com/author/{author_}\").text,'html.parser')\n",
    "    born = soup.find('span',class_='author-born-date').text\n",
    "    description = soup.find('div', class_='author-description').text.strip()\n",
    "    author_data.append({'author_name':author,'born':born,'description':description})\n",
    "                                                            "
   ]
  },
  {
   "cell_type": "code",
   "execution_count": 8,
   "metadata": {},
   "outputs": [
    {
     "data": {
      "text/plain": [
       "<pymongo.results.InsertManyResult at 0x7f95fc342480>"
      ]
     },
     "execution_count": 8,
     "metadata": {},
     "output_type": "execute_result"
    }
   ],
   "source": [
    "#MongoDB\n",
    "#Adds data scraped above into MongoDB\n",
    "conn = 'mongodb://localhost:27017'\n",
    "client = pymongo.MongoClient(conn)\n",
    "db = client['quotes_db']\n",
    "authors = db.authors\n",
    "quotes = db.quotes\n",
    "authors.insert_many(author_data)\n",
    "quotes.insert_many(data)"
   ]
  }
 ],
 "metadata": {
  "kernelspec": {
   "display_name": "Python 3",
   "language": "python",
   "name": "python3"
  },
  "language_info": {
   "codemirror_mode": {
    "name": "ipython",
    "version": 3
   },
   "file_extension": ".py",
   "mimetype": "text/x-python",
   "name": "python",
   "nbconvert_exporter": "python",
   "pygments_lexer": "ipython3",
   "version": "3.8.3"
  }
 },
 "nbformat": 4,
 "nbformat_minor": 4
}
